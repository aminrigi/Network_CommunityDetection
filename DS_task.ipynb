{
  "nbformat": 4,
  "nbformat_minor": 0,
  "metadata": {
    "colab": {
      "provenance": [],
      "include_colab_link": true
    },
    "kernelspec": {
      "name": "python3",
      "display_name": "Python 3"
    }
  },
  "cells": [
    {
      "cell_type": "markdown",
      "metadata": {
        "id": "view-in-github",
        "colab_type": "text"
      },
      "source": [
        "<a href=\"https://colab.research.google.com/github/aminrigi/Network_CommunityDetection/blob/master/DS_task.ipynb\" target=\"_parent\"><img src=\"https://colab.research.google.com/assets/colab-badge.svg\" alt=\"Open In Colab\"/></a>"
      ]
    },
    {
      "cell_type": "markdown",
      "metadata": {
        "id": "TbOgxDfZvX3N"
      },
      "source": [
        "To add:\n",
        "\n",
        "* Permutation Importance (https://scikit-learn.org/stable/modules/permutation_importance.html )"
      ]
    },
    {
      "cell_type": "code",
      "metadata": {
        "id": "n5PYNdm2erBe"
      },
      "source": [
        "import matplotlib.pyplot as plt\n",
        "import pandas as pd\n",
        "import seaborn as sns\n",
        "import numpy as np\n",
        "from google.colab import drive # importing data from my google drive to colab"
      ],
      "execution_count": null,
      "outputs": []
    },
    {
      "cell_type": "code",
      "metadata": {
        "id": "u3PcVp7T_jW5",
        "colab": {
          "base_uri": "https://localhost:8080/"
        },
        "outputId": "abc58ec7-6513-4131-acbe-db6391d40a49"
      },
      "source": [
        "drive.mount('/content/gdrive')\n",
        "# reading from google drive\n",
        "df = pd.read_csv(\"/content/gdrive/My Drive/aminFiles/classification_task_train.csv\")"
      ],
      "execution_count": null,
      "outputs": [
        {
          "output_type": "stream",
          "text": [
            "Drive already mounted at /content/gdrive; to attempt to forcibly remount, call drive.mount(\"/content/gdrive\", force_remount=True).\n"
          ],
          "name": "stdout"
        }
      ]
    },
    {
      "cell_type": "markdown",
      "metadata": {
        "id": "pW5K295MYQHs"
      },
      "source": [
        "# Exploratory Data Analysis"
      ]
    },
    {
      "cell_type": "code",
      "metadata": {
        "colab": {
          "base_uri": "https://localhost:8080/",
          "height": 206
        },
        "id": "cZVuFe8_gQ9T",
        "outputId": "a1f9dc84-2f99-4f59-bcba-5f62366e0cd7"
      },
      "source": [
        "df.head(5)"
      ],
      "execution_count": null,
      "outputs": [
        {
          "output_type": "execute_result",
          "data": {
            "text/html": [
              "<div>\n",
              "<style scoped>\n",
              "    .dataframe tbody tr th:only-of-type {\n",
              "        vertical-align: middle;\n",
              "    }\n",
              "\n",
              "    .dataframe tbody tr th {\n",
              "        vertical-align: top;\n",
              "    }\n",
              "\n",
              "    .dataframe thead th {\n",
              "        text-align: right;\n",
              "    }\n",
              "</style>\n",
              "<table border=\"1\" class=\"dataframe\">\n",
              "  <thead>\n",
              "    <tr style=\"text-align: right;\">\n",
              "      <th></th>\n",
              "      <th>id</th>\n",
              "      <th>ae</th>\n",
              "      <th>wc</th>\n",
              "      <th>fn</th>\n",
              "      <th>oc</th>\n",
              "      <th>ed</th>\n",
              "      <th>en</th>\n",
              "      <th>rd</th>\n",
              "      <th>cg</th>\n",
              "      <th>cl</th>\n",
              "      <th>hw</th>\n",
              "      <th>nc</th>\n",
              "      <th>se</th>\n",
              "      <th>y</th>\n",
              "    </tr>\n",
              "  </thead>\n",
              "  <tbody>\n",
              "    <tr>\n",
              "      <th>0</th>\n",
              "      <td>1</td>\n",
              "      <td>62</td>\n",
              "      <td>wc004</td>\n",
              "      <td>199265.0</td>\n",
              "      <td>oc003</td>\n",
              "      <td>ed005</td>\n",
              "      <td>11</td>\n",
              "      <td>1</td>\n",
              "      <td>0</td>\n",
              "      <td>0</td>\n",
              "      <td>40</td>\n",
              "      <td>nc001</td>\n",
              "      <td>se002</td>\n",
              "      <td>False</td>\n",
              "    </tr>\n",
              "    <tr>\n",
              "      <th>1</th>\n",
              "      <td>2</td>\n",
              "      <td>29</td>\n",
              "      <td>wc003</td>\n",
              "      <td>88781.0</td>\n",
              "      <td>oc001</td>\n",
              "      <td>ed003</td>\n",
              "      <td>13</td>\n",
              "      <td>4</td>\n",
              "      <td>0</td>\n",
              "      <td>0</td>\n",
              "      <td>50</td>\n",
              "      <td>nc001</td>\n",
              "      <td>se001</td>\n",
              "      <td>False</td>\n",
              "    </tr>\n",
              "    <tr>\n",
              "      <th>2</th>\n",
              "      <td>3</td>\n",
              "      <td>36</td>\n",
              "      <td>wc001</td>\n",
              "      <td>202071.0</td>\n",
              "      <td>oc001</td>\n",
              "      <td>ed003</td>\n",
              "      <td>13</td>\n",
              "      <td>3</td>\n",
              "      <td>0</td>\n",
              "      <td>0</td>\n",
              "      <td>45</td>\n",
              "      <td>nc001</td>\n",
              "      <td>se002</td>\n",
              "      <td>True</td>\n",
              "    </tr>\n",
              "    <tr>\n",
              "      <th>3</th>\n",
              "      <td>4</td>\n",
              "      <td>31</td>\n",
              "      <td>wc004</td>\n",
              "      <td>199735.0</td>\n",
              "      <td>oc006</td>\n",
              "      <td>ed016</td>\n",
              "      <td>1</td>\n",
              "      <td>2</td>\n",
              "      <td>0</td>\n",
              "      <td>0</td>\n",
              "      <td>24</td>\n",
              "      <td>nc001</td>\n",
              "      <td>se001</td>\n",
              "      <td>False</td>\n",
              "    </tr>\n",
              "    <tr>\n",
              "      <th>4</th>\n",
              "      <td>5</td>\n",
              "      <td>59</td>\n",
              "      <td>wc002</td>\n",
              "      <td>185764.0</td>\n",
              "      <td>oc001</td>\n",
              "      <td>ed003</td>\n",
              "      <td>13</td>\n",
              "      <td>5</td>\n",
              "      <td>99999</td>\n",
              "      <td>0</td>\n",
              "      <td>43</td>\n",
              "      <td>nc001</td>\n",
              "      <td>se001</td>\n",
              "      <td>True</td>\n",
              "    </tr>\n",
              "  </tbody>\n",
              "</table>\n",
              "</div>"
            ],
            "text/plain": [
              "   id  ae     wc        fn     oc     ed  ...     cg  cl  hw     nc     se      y\n",
              "0   1  62  wc004  199265.0  oc003  ed005  ...      0   0  40  nc001  se002  False\n",
              "1   2  29  wc003   88781.0  oc001  ed003  ...      0   0  50  nc001  se001  False\n",
              "2   3  36  wc001  202071.0  oc001  ed003  ...      0   0  45  nc001  se002   True\n",
              "3   4  31  wc004  199735.0  oc006  ed016  ...      0   0  24  nc001  se001  False\n",
              "4   5  59  wc002  185764.0  oc001  ed003  ...  99999   0  43  nc001  se001   True\n",
              "\n",
              "[5 rows x 14 columns]"
            ]
          },
          "metadata": {
            "tags": []
          },
          "execution_count": 8
        }
      ]
    },
    {
      "cell_type": "code",
      "metadata": {
        "colab": {
          "base_uri": "https://localhost:8080/",
          "height": 318
        },
        "id": "mVPd24_TgcIJ",
        "outputId": "efcad564-1154-4057-ef56-d8fd8b7b936f"
      },
      "source": [
        "print('Total rows:', df.shape[0])\n",
        "df.describe()"
      ],
      "execution_count": null,
      "outputs": [
        {
          "output_type": "stream",
          "text": [
            "Total rows: 29304\n"
          ],
          "name": "stdout"
        },
        {
          "output_type": "execute_result",
          "data": {
            "text/html": [
              "<div>\n",
              "<style scoped>\n",
              "    .dataframe tbody tr th:only-of-type {\n",
              "        vertical-align: middle;\n",
              "    }\n",
              "\n",
              "    .dataframe tbody tr th {\n",
              "        vertical-align: top;\n",
              "    }\n",
              "\n",
              "    .dataframe thead th {\n",
              "        text-align: right;\n",
              "    }\n",
              "</style>\n",
              "<table border=\"1\" class=\"dataframe\">\n",
              "  <thead>\n",
              "    <tr style=\"text-align: right;\">\n",
              "      <th></th>\n",
              "      <th>id</th>\n",
              "      <th>ae</th>\n",
              "      <th>fn</th>\n",
              "      <th>en</th>\n",
              "      <th>rd</th>\n",
              "      <th>cg</th>\n",
              "      <th>cl</th>\n",
              "      <th>hw</th>\n",
              "    </tr>\n",
              "  </thead>\n",
              "  <tbody>\n",
              "    <tr>\n",
              "      <th>count</th>\n",
              "      <td>29304.000000</td>\n",
              "      <td>29304.000000</td>\n",
              "      <td>2.921500e+04</td>\n",
              "      <td>29304.000000</td>\n",
              "      <td>29304.000000</td>\n",
              "      <td>29304.000000</td>\n",
              "      <td>29304.000000</td>\n",
              "      <td>29304.000000</td>\n",
              "    </tr>\n",
              "    <tr>\n",
              "      <th>mean</th>\n",
              "      <td>14652.500000</td>\n",
              "      <td>38.588179</td>\n",
              "      <td>1.898685e+05</td>\n",
              "      <td>10.077293</td>\n",
              "      <td>3.015049</td>\n",
              "      <td>1101.668100</td>\n",
              "      <td>88.055010</td>\n",
              "      <td>40.416052</td>\n",
              "    </tr>\n",
              "    <tr>\n",
              "      <th>std</th>\n",
              "      <td>8459.480481</td>\n",
              "      <td>13.646619</td>\n",
              "      <td>1.057904e+05</td>\n",
              "      <td>2.580710</td>\n",
              "      <td>1.409311</td>\n",
              "      <td>7502.606259</td>\n",
              "      <td>404.360572</td>\n",
              "      <td>12.349827</td>\n",
              "    </tr>\n",
              "    <tr>\n",
              "      <th>min</th>\n",
              "      <td>1.000000</td>\n",
              "      <td>17.000000</td>\n",
              "      <td>1.376900e+04</td>\n",
              "      <td>1.000000</td>\n",
              "      <td>1.000000</td>\n",
              "      <td>0.000000</td>\n",
              "      <td>0.000000</td>\n",
              "      <td>1.000000</td>\n",
              "    </tr>\n",
              "    <tr>\n",
              "      <th>25%</th>\n",
              "      <td>7326.750000</td>\n",
              "      <td>28.000000</td>\n",
              "      <td>1.177890e+05</td>\n",
              "      <td>9.000000</td>\n",
              "      <td>2.000000</td>\n",
              "      <td>0.000000</td>\n",
              "      <td>0.000000</td>\n",
              "      <td>40.000000</td>\n",
              "    </tr>\n",
              "    <tr>\n",
              "      <th>50%</th>\n",
              "      <td>14652.500000</td>\n",
              "      <td>37.000000</td>\n",
              "      <td>1.786860e+05</td>\n",
              "      <td>10.000000</td>\n",
              "      <td>3.000000</td>\n",
              "      <td>0.000000</td>\n",
              "      <td>0.000000</td>\n",
              "      <td>40.000000</td>\n",
              "    </tr>\n",
              "    <tr>\n",
              "      <th>75%</th>\n",
              "      <td>21978.250000</td>\n",
              "      <td>48.000000</td>\n",
              "      <td>2.376705e+05</td>\n",
              "      <td>12.000000</td>\n",
              "      <td>4.000000</td>\n",
              "      <td>0.000000</td>\n",
              "      <td>0.000000</td>\n",
              "      <td>45.000000</td>\n",
              "    </tr>\n",
              "    <tr>\n",
              "      <th>max</th>\n",
              "      <td>29304.000000</td>\n",
              "      <td>90.000000</td>\n",
              "      <td>1.484705e+06</td>\n",
              "      <td>16.000000</td>\n",
              "      <td>5.000000</td>\n",
              "      <td>99999.000000</td>\n",
              "      <td>4356.000000</td>\n",
              "      <td>99.000000</td>\n",
              "    </tr>\n",
              "  </tbody>\n",
              "</table>\n",
              "</div>"
            ],
            "text/plain": [
              "                 id            ae  ...            cl            hw\n",
              "count  29304.000000  29304.000000  ...  29304.000000  29304.000000\n",
              "mean   14652.500000     38.588179  ...     88.055010     40.416052\n",
              "std     8459.480481     13.646619  ...    404.360572     12.349827\n",
              "min        1.000000     17.000000  ...      0.000000      1.000000\n",
              "25%     7326.750000     28.000000  ...      0.000000     40.000000\n",
              "50%    14652.500000     37.000000  ...      0.000000     40.000000\n",
              "75%    21978.250000     48.000000  ...      0.000000     45.000000\n",
              "max    29304.000000     90.000000  ...   4356.000000     99.000000\n",
              "\n",
              "[8 rows x 8 columns]"
            ]
          },
          "metadata": {
            "tags": []
          },
          "execution_count": 7
        }
      ]
    },
    {
      "cell_type": "code",
      "metadata": {
        "colab": {
          "base_uri": "https://localhost:8080/"
        },
        "id": "5KAl78BEhFX6",
        "outputId": "2257c3c7-c5f8-42d4-b29b-1851a397f5f7"
      },
      "source": [
        "df.dtypes"
      ],
      "execution_count": null,
      "outputs": [
        {
          "output_type": "execute_result",
          "data": {
            "text/plain": [
              "id      int64\n",
              "ae      int64\n",
              "wc     object\n",
              "fn    float64\n",
              "oc     object\n",
              "ed     object\n",
              "en      int64\n",
              "rd      int64\n",
              "cg      int64\n",
              "cl      int64\n",
              "hw      int64\n",
              "nc     object\n",
              "se     object\n",
              "y        bool\n",
              "dtype: object"
            ]
          },
          "metadata": {
            "tags": []
          },
          "execution_count": 8
        }
      ]
    },
    {
      "cell_type": "markdown",
      "metadata": {
        "id": "4HoIkchUiWkA"
      },
      "source": [
        "Five variables seem to be categorical.\n",
        "\n",
        "First, let's have a look at the numerical variables:\n"
      ]
    },
    {
      "cell_type": "code",
      "metadata": {
        "id": "0FdxCJkJwas8"
      },
      "source": [
        "df['y'] = df['y'].astype(int)# converting bool to int\n",
        "df = df.drop('id',1) # droping id col"
      ],
      "execution_count": null,
      "outputs": []
    },
    {
      "cell_type": "markdown",
      "metadata": {
        "id": "sR-itXBKxqV5"
      },
      "source": [
        "Let's take a look at the histogram of the variables:"
      ]
    },
    {
      "cell_type": "code",
      "metadata": {
        "colab": {
          "base_uri": "https://localhost:8080/",
          "height": 781
        },
        "id": "LecBXfIqu_5t",
        "outputId": "7f376b5f-f5aa-4bf1-bf90-6e9d88a658bf"
      },
      "source": [
        "df.hist(bins=30, figsize=(15, 10))"
      ],
      "execution_count": null,
      "outputs": [
        {
          "output_type": "execute_result",
          "data": {
            "text/plain": [
              "array([[<matplotlib.axes._subplots.AxesSubplot object at 0x7f34ff39e6d8>,\n",
              "        <matplotlib.axes._subplots.AxesSubplot object at 0x7f34ff2f4940>,\n",
              "        <matplotlib.axes._subplots.AxesSubplot object at 0x7f34ff328ba8>],\n",
              "       [<matplotlib.axes._subplots.AxesSubplot object at 0x7f34ff2d7e10>,\n",
              "        <matplotlib.axes._subplots.AxesSubplot object at 0x7f34ff2940b8>,\n",
              "        <matplotlib.axes._subplots.AxesSubplot object at 0x7f34ff247320>],\n",
              "       [<matplotlib.axes._subplots.AxesSubplot object at 0x7f34ff1fb588>,\n",
              "        <matplotlib.axes._subplots.AxesSubplot object at 0x7f34ff1ae7b8>,\n",
              "        <matplotlib.axes._subplots.AxesSubplot object at 0x7f34ff1ae828>]],\n",
              "      dtype=object)"
            ]
          },
          "metadata": {
            "tags": []
          },
          "execution_count": 10
        },
        {
          "output_type": "display_data",
          "data": {
            "image/png": "[encoded data removed]",
            "text/plain": [
              "<Figure size 1080x720 with 9 Axes>"
            ]
          },
          "metadata": {
            "tags": [],
            "needs_background": "light"
          }
        }
      ]
    },
    {
      "cell_type": "markdown",
      "metadata": {
        "id": "P9sUN8vwx0jU"
      },
      "source": [
        "Some variables such as cg and d are highly biased. Same goes for hw. y is imbalanced as well.\n",
        "\n"
      ]
    },
    {
      "cell_type": "markdown",
      "metadata": {
        "id": "6xMc5MTP4a-R"
      },
      "source": [
        "Let's have a look at the correlation matrix:"
      ]
    },
    {
      "cell_type": "code",
      "metadata": {
        "colab": {
          "base_uri": "https://localhost:8080/",
          "height": 504
        },
        "id": "ksG4hw_kisCq",
        "outputId": "0338eda7-99e9-4251-cfb5-3fdbf2dc84ac"
      },
      "source": [
        "numbers = ['int16', 'int32', 'int64', 'float16', 'float32', 'float64']\n",
        "numerics = df.select_dtypes(include=numbers) #extracting numerical features\n",
        "\n",
        "corr = numerics.corr() #correlation matrix\n",
        "\n",
        "mask = np.triu(np.ones_like(corr, dtype=bool))# Generate a mask for the upper triangle\n",
        "\n",
        "f, ax = plt.subplots(figsize=(8, 8))# figure size\n",
        "\n",
        "cmap = sns.diverging_palette(230, 20, as_cmap=True) # nicer colours\n",
        "\n",
        "sns.heatmap(corr, xticklabels=corr.columns, yticklabels=corr.columns, annot=True, cmap = cmap)\n",
        "\n"
      ],
      "execution_count": null,
      "outputs": [
        {
          "output_type": "execute_result",
          "data": {
            "text/plain": [
              "<matplotlib.axes._subplots.AxesSubplot at 0x7f34ffc29198>"
            ]
          },
          "metadata": {
            "tags": []
          },
          "execution_count": 11
        },
        {
          "output_type": "display_data",
          "data": {
            "image/png": "[encoded data removed]",
            "text/plain": [
              "<Figure size 576x576 with 2 Axes>"
            ]
          },
          "metadata": {
            "tags": [],
            "needs_background": "light"
          }
        }
      ]
    },
    {
      "cell_type": "markdown",
      "metadata": {
        "id": "MnHoywF8jrn5"
      },
      "source": [
        "Pairwise correlation doesn't seem to be significant."
      ]
    },
    {
      "cell_type": "markdown",
      "metadata": {
        "id": "ckr7LL3e1U1u"
      },
      "source": [
        "Categorical ones:"
      ]
    },
    {
      "cell_type": "code",
      "metadata": {
        "colab": {
          "base_uri": "https://localhost:8080/"
        },
        "id": "CheiZizwvGU1",
        "outputId": "af1923e1-2cd8-4744-d7b0-6eb1e6ffadb0"
      },
      "source": [
        "cat_vars = df.select_dtypes(include=['object']).copy() #extracting categorical variables\n",
        "cat_vars.columns # seeing the cat vars"
      ],
      "execution_count": null,
      "outputs": [
        {
          "output_type": "execute_result",
          "data": {
            "text/plain": [
              "Index([], dtype='object')"
            ]
          },
          "metadata": {
            "tags": []
          },
          "execution_count": 13
        }
      ]
    },
    {
      "cell_type": "markdown",
      "metadata": {
        "id": "u8q7FQNTfQE2"
      },
      "source": [
        "Let's dig deeper"
      ]
    },
    {
      "cell_type": "code",
      "metadata": {
        "colab": {
          "base_uri": "https://localhost:8080/",
          "height": 300
        },
        "id": "Ce1vhwZhfBjN",
        "outputId": "898d3f08-054d-4fc1-939a-283a359913ce"
      },
      "source": [
        "print('unique values in wc:',df['wc'].nunique())\n",
        "df['wc'].hist()"
      ],
      "execution_count": null,
      "outputs": [
        {
          "output_type": "stream",
          "text": [
            "unique values in wc: 8\n"
          ],
          "name": "stdout"
        },
        {
          "output_type": "execute_result",
          "data": {
            "text/plain": [
              "<matplotlib.axes._subplots.AxesSubplot at 0x7f34fe7c0cf8>"
            ]
          },
          "metadata": {
            "tags": []
          },
          "execution_count": 14
        },
        {
          "output_type": "display_data",
          "data": {
            "image/png": "[encoded data removed]",
            "text/plain": [
              "<Figure size 432x288 with 1 Axes>"
            ]
          },
          "metadata": {
            "tags": [],
            "needs_background": "light"
          }
        }
      ]
    },
    {
      "cell_type": "code",
      "metadata": {
        "colab": {
          "base_uri": "https://localhost:8080/",
          "height": 300
        },
        "id": "kYR9lFVAfYtJ",
        "outputId": "5b6b6fc8-4ec5-430e-bcc1-2c6f41063337"
      },
      "source": [
        "print('unique values in oc:',df['oc'].nunique())\n",
        "df['oc'].hist()"
      ],
      "execution_count": null,
      "outputs": [
        {
          "output_type": "stream",
          "text": [
            "unique values in oc: 14\n"
          ],
          "name": "stdout"
        },
        {
          "output_type": "execute_result",
          "data": {
            "text/plain": [
              "<matplotlib.axes._subplots.AxesSubplot at 0x7fbe56bd6e10>"
            ]
          },
          "metadata": {
            "tags": []
          },
          "execution_count": 12
        },
        {
          "output_type": "display_data",
          "data": {
            "image/png": "[encoded data removed]",
            "text/plain": [
              "<Figure size 432x288 with 1 Axes>"
            ]
          },
          "metadata": {
            "tags": [],
            "needs_background": "light"
          }
        }
      ]
    },
    {
      "cell_type": "code",
      "metadata": {
        "colab": {
          "base_uri": "https://localhost:8080/",
          "height": 300
        },
        "id": "YrwB0dNsffi0",
        "outputId": "a6421199-6cca-4752-9a0d-553ad34dd1fd"
      },
      "source": [
        "print('unique values in ed:',df['ed'].nunique())\n",
        "df['ed'].hist()"
      ],
      "execution_count": null,
      "outputs": [
        {
          "output_type": "stream",
          "text": [
            "unique values in ed: 16\n"
          ],
          "name": "stdout"
        },
        {
          "output_type": "execute_result",
          "data": {
            "text/plain": [
              "<matplotlib.axes._subplots.AxesSubplot at 0x7fbe56aeb4e0>"
            ]
          },
          "metadata": {
            "tags": []
          },
          "execution_count": 13
        },
        {
          "output_type": "display_data",
          "data": {
            "image/png": "[encoded data removed]",
            "text/plain": [
              "<Figure size 432x288 with 1 Axes>"
            ]
          },
          "metadata": {
            "tags": [],
            "needs_background": "light"
          }
        }
      ]
    },
    {
      "cell_type": "code",
      "metadata": {
        "colab": {
          "base_uri": "https://localhost:8080/",
          "height": 282
        },
        "id": "24vze9pzgN2g",
        "outputId": "36b80f6a-615d-457e-8f42-154a2926087e"
      },
      "source": [
        "df['nc'].hist()"
      ],
      "execution_count": null,
      "outputs": [
        {
          "output_type": "execute_result",
          "data": {
            "text/plain": [
              "<matplotlib.axes._subplots.AxesSubplot at 0x7fbe56a06470>"
            ]
          },
          "metadata": {
            "tags": []
          },
          "execution_count": 14
        },
        {
          "output_type": "display_data",
          "data": {
            "image/png": "[encoded data removed]",
            "text/plain": [
              "<Figure size 432x288 with 1 Axes>"
            ]
          },
          "metadata": {
            "tags": [],
            "needs_background": "light"
          }
        }
      ]
    },
    {
      "cell_type": "markdown",
      "metadata": {
        "id": "kXwOkMHv1YjO"
      },
      "source": [
        "*As a part of exporatory data analysis, I usually plot numerical vars grouped by categorical vars. For example, age by gender. I skip it since it doesn't seem to be very meaningful with anonymised columns.*"
      ]
    },
    {
      "cell_type": "markdown",
      "metadata": {
        "id": "3VxcSjFS3w-U"
      },
      "source": [
        "# Missing values"
      ]
    },
    {
      "cell_type": "code",
      "metadata": {
        "colab": {
          "base_uri": "https://localhost:8080/"
        },
        "id": "_LGuz3pM2GBy",
        "outputId": "eea2d418-8ac7-41e6-be72-4e90463ac5e8"
      },
      "source": [
        "df.isnull().values.any() # are there NAs?"
      ],
      "execution_count": null,
      "outputs": [
        {
          "output_type": "execute_result",
          "data": {
            "text/plain": [
              "True"
            ]
          },
          "metadata": {
            "tags": []
          },
          "execution_count": 6
        }
      ]
    },
    {
      "cell_type": "markdown",
      "metadata": {
        "id": "bLSKfbnU_4LG"
      },
      "source": [
        "Bummer! let's investigate more:"
      ]
    },
    {
      "cell_type": "code",
      "metadata": {
        "colab": {
          "base_uri": "https://localhost:8080/"
        },
        "id": "WOaCKIfN3CJC",
        "outputId": "87471469-265e-49f8-8366-86ed315e6c8f"
      },
      "source": [
        "na_rows_count = np.count_nonzero(df.isnull()) # count of rows that have NAs in them\n",
        "print('Count of rows with NAs:', na_rows_count)\n",
        "print('percentage of rows with NAs:', na_rows_count/df.shape[0] * 100 )"
      ],
      "execution_count": null,
      "outputs": [
        {
          "output_type": "stream",
          "text": [
            "Count of rows with NAs: 3936\n",
            "percentage of rows with NAs: 13.431613431613432\n"
          ],
          "name": "stdout"
        }
      ]
    },
    {
      "cell_type": "markdown",
      "metadata": {
        "id": "k9eUbhiC55Xp"
      },
      "source": [
        "The number of rows with NAs is too big to be ignored (or dropped).\n",
        "\n",
        "My usual approach: why these NAs occur? Is there a story behind them? (e.g. a sensor problem which happens to particular patterns/rows) Are they randomly distributed?\n",
        "\n",
        "A couple of approaches:\n",
        "\n",
        "*   Drop NAs (cols or rows)\n",
        "*   Imputation:\n",
        "    *    k-Nearest Neighbor\n",
        "    *    Mode for categoricals, mean for numerics,...\n",
        "*   Assuming NAs are just another value (or category) in categorical variables (only for categorical variables).\n",
        "\n",
        "Here, I go with imputation. We can have multiple iterations using other approaches and compare the results.\n",
        "\n",
        "\n",
        "\n"
      ]
    },
    {
      "cell_type": "code",
      "metadata": {
        "id": "QjHEdUO1ULLW"
      },
      "source": [
        " df.apply(lambda x: sum(x.isnull()),axis=0) # getting the count of NAs"
      ],
      "execution_count": null,
      "outputs": []
    },
    {
      "cell_type": "code",
      "metadata": {
        "colab": {
          "base_uri": "https://localhost:8080/"
        },
        "id": "9rAigojb2ik2",
        "outputId": "472db88b-f434-42af-e933-844e2b76b0bf"
      },
      "source": [
        "df.isnull().sum()/len(df)*100 #summary of NAs: getting NAs percentage"
      ],
      "execution_count": null,
      "outputs": [
        {
          "output_type": "execute_result",
          "data": {
            "text/plain": [
              "ae    0.000000\n",
              "wc    5.640868\n",
              "fn    0.303713\n",
              "oc    5.661343\n",
              "ed    0.000000\n",
              "en    0.000000\n",
              "rd    0.000000\n",
              "cg    0.000000\n",
              "cl    0.000000\n",
              "hw    0.000000\n",
              "nc    1.825689\n",
              "se    0.000000\n",
              "y     0.000000\n",
              "dtype: float64"
            ]
          },
          "metadata": {
            "tags": []
          },
          "execution_count": 8
        }
      ]
    },
    {
      "cell_type": "markdown",
      "metadata": {
        "id": "HKrFNIr530CX"
      },
      "source": [
        "There's a small percentage of NAs in fn (numerical) and considerable percentage of NAs in wc and oc (both catergorical). There are some missing data in nc as well."
      ]
    },
    {
      "cell_type": "code",
      "metadata": {
        "id": "Skao8SeuAn2k",
        "colab": {
          "base_uri": "https://localhost:8080/"
        },
        "outputId": "0db1c7cd-ef52-4823-931a-a556d29bf756"
      },
      "source": [
        "from sklearn.impute import KNNImputer\n",
        "from sklearn.preprocessing import LabelEncoder\n",
        "\n",
        "\n",
        "df_copy = df.copy()\n",
        "\n",
        "#applying label encoder so the distance is meaningful\n",
        "df = df.apply(lambda series: pd.Series(\n",
        "    LabelEncoder().fit_transform(series[series.notnull()]),\n",
        "    index=series[series.notnull()].index\n",
        "))\n",
        "\n",
        "imputer = KNNImputer(n_neighbors=1) # because of categorical\n",
        "df = pd.DataFrame(imputer.fit_transform(df))\n",
        "df.columns=df_copy.columns\n",
        "df.index=df_copy.index\n",
        "\n",
        "df.isnull().values.any() # are there NAs?"
      ],
      "execution_count": null,
      "outputs": [
        {
          "output_type": "execute_result",
          "data": {
            "text/plain": [
              "False"
            ]
          },
          "metadata": {
            "tags": []
          },
          "execution_count": 9
        }
      ]
    },
    {
      "cell_type": "markdown",
      "metadata": {
        "id": "E0mbXOtQgaPS"
      },
      "source": [
        "# Encoding variables\n",
        "\n",
        "### Encoding categorical variables using one-hot encoder:"
      ]
    },
    {
      "cell_type": "markdown",
      "metadata": {
        "id": "S-Lu2kHuXW3K"
      },
      "source": [
        "When we encode categorical variables, we need to make sure all categories are captured. By that I mean if a value for a category appears in the test data while it doesn't exist in the training, we need add a column in the training in which all the observations are set to zero. Same goes for test. In the next step I address this issue with the gurantee that *no leakage from train to test (or vice versa) is happenning*.\n",
        "\n",
        "Let's have a look at the categories at the test data:"
      ]
    },
    {
      "cell_type": "code",
      "metadata": {
        "id": "UNstztYbZD1g"
      },
      "source": [
        "#drive.mount('/content/gdrive')\n",
        "# reading from google drive\n",
        "df_test = pd.read_csv(\"/content/gdrive/My Drive/aminFiles/classification_task_test.csv\")"
      ],
      "execution_count": null,
      "outputs": []
    },
    {
      "cell_type": "code",
      "metadata": {
        "colab": {
          "base_uri": "https://localhost:8080/"
        },
        "id": "-VLpYRWVZ1Zg",
        "outputId": "420321c7-11da-4e36-f333-9f5165b38035"
      },
      "source": [
        "print('unique values in wc in test:',df_test['wc'].nunique())"
      ],
      "execution_count": null,
      "outputs": [
        {
          "output_type": "stream",
          "text": [
            "unique values in wc in test: 7\n"
          ],
          "name": "stdout"
        }
      ]
    },
    {
      "cell_type": "markdown",
      "metadata": {
        "id": "geS1n_g2aCZR"
      },
      "source": [
        "My guess was right, category values in test and train don't 100% match. In the next steps, we impute NAs in test set, row-bind the two datasets, apply one-hot-encoder, and finally separate the two datasets."
      ]
    },
    {
      "cell_type": "code",
      "metadata": {
        "colab": {
          "base_uri": "https://localhost:8080/"
        },
        "id": "AG1JAt3JbWmv",
        "outputId": "7e5787a9-39b6-4ef7-a21d-ef278acb53e8"
      },
      "source": [
        "df_test.isnull().values.any() # are there NAs?"
      ],
      "execution_count": null,
      "outputs": [
        {
          "output_type": "execute_result",
          "data": {
            "text/plain": [
              "True"
            ]
          },
          "metadata": {
            "tags": []
          },
          "execution_count": 4
        }
      ]
    },
    {
      "cell_type": "code",
      "metadata": {
        "colab": {
          "base_uri": "https://localhost:8080/"
        },
        "id": "ceWbH_ypa2Df",
        "outputId": "bd45ae3d-3893-4b94-bbed-9d5647049a58"
      },
      "source": [
        "df_test_copy = df_test.copy()\n",
        "\n",
        "df_test = df_test.apply(lambda series: pd.Series(\n",
        "    LabelEncoder().fit_transform(series[series.notnull()]),\n",
        "    index=series[series.notnull()].index\n",
        "))\n",
        "\n",
        "imputer = KNNImputer(n_neighbors=1)\n",
        "df_test = pd.DataFrame(imputer.fit_transform(df_test))\n",
        "df_test.columns=df_test_copy.columns\n",
        "df_test.index=df_test_copy.index\n",
        "\n",
        "df_test.isnull().values.any() # are there NAs?"
      ],
      "execution_count": null,
      "outputs": [
        {
          "output_type": "execute_result",
          "data": {
            "text/plain": [
              "False"
            ]
          },
          "metadata": {
            "tags": []
          },
          "execution_count": 11
        }
      ]
    },
    {
      "cell_type": "code",
      "metadata": {
        "id": "xjq5nt-gb4g8"
      },
      "source": [
        "df_test['y'] = 0 # adding a dummy column for the purpose of row-binding, we'll remove it afterwards.\n",
        "df_test = df_test.drop('id',1) # droping the id col\n",
        "\n",
        "#concating\n",
        "df_total = pd.concat([df, df_test])\n",
        "\n",
        "#one-hot-encoding\n",
        "df_total = pd.get_dummies(df_total, columns=cat_vars.columns, prefix=cat_vars.columns)\n",
        "\n",
        "#separating\n",
        "df = df_total[:df.shape[0]]\n",
        "df_test = df_total[df.shape[0]:]\n",
        "\n"
      ],
      "execution_count": null,
      "outputs": []
    },
    {
      "cell_type": "markdown",
      "metadata": {
        "id": "Q8RzMbN9Jo6g"
      },
      "source": [
        " ### Scaling\n",
        "\n",
        "Now that everything is encoded, it's time to **scale** variables. One thing that we need to be careful is that *rd* is a catogrical variable. Since it has numerical values, I assume it's an ordinal categorical variable (usually a domain expert can decide this). As a result, I use MinMax Scaler for *rd* and sandard scaler for other features."
      ]
    },
    {
      "cell_type": "code",
      "metadata": {
        "id": "SOkGo6VBzlu8"
      },
      "source": [
        "#Scaling training\n",
        "\n",
        "rd_scaled = (  df['rd'] - min(df['rd'])  ) / ( max(df['rd']) - min(df['rd']) ) #MinMax scaling\n",
        "\n",
        "from sklearn.preprocessing import StandardScaler\n",
        "standard_scaler = StandardScaler()\n",
        "df = pd.DataFrame( standard_scaler.fit_transform(df) )\n",
        "\n",
        "df.columns=df_copy.columns\n",
        "df.index=df_copy.index\n",
        "df['rd'] = rd_scaled\n",
        "\n",
        "\n",
        "#Scaling test\n",
        "\n",
        "rd_scaled_t = (  df_test['rd'] - min(df_test['rd'])  ) / ( max(df_test['rd']) - min(df_test['rd']) ) #MinMax scaling\n",
        "\n",
        "from sklearn.preprocessing import StandardScaler\n",
        "standard_scaler = StandardScaler()\n",
        "df_test = pd.DataFrame( standard_scaler.fit_transform(df_test) )\n",
        "\n",
        "df_test.columns=df_copy.columns\n",
        "df_test['rd'] = rd_scaled_t\n"
      ],
      "execution_count": null,
      "outputs": []
    },
    {
      "cell_type": "code",
      "metadata": {
        "id": "GAPMS7WAyOWM"
      },
      "source": [
        "#dropping the dummy y from the test\n",
        "df_test = df_test.drop('y',1)\n",
        "\n",
        "\n",
        "#saving the pre-processed dataframes\n",
        "df.to_pickle('/content/gdrive/My Drive/aminFiles/train.pkl')\n",
        "df_test.to_pickle('/content/gdrive/My Drive/aminFiles/test.pkl')"
      ],
      "execution_count": null,
      "outputs": []
    },
    {
      "cell_type": "markdown",
      "metadata": {
        "id": "bXncxWcBkMS3"
      },
      "source": [
        "Both pre-processed train and test datasets are saved. Now, I focus on the training set."
      ]
    },
    {
      "cell_type": "code",
      "metadata": {
        "colab": {
          "base_uri": "https://localhost:8080/"
        },
        "id": "RDbILhEXsqaY",
        "outputId": "fb73b331-0ccf-4bdf-c7f4-ac4230bf53e4"
      },
      "source": [
        "drive.mount('/content/gdrive')\n",
        "df = pd.read_pickle('/content/gdrive/My Drive/aminFiles/train.pkl')\n",
        "df_test = pd.read_pickle('/content/gdrive/My Drive/aminFiles/test.pkl')\n",
        "df_copy = df.copy()"
      ],
      "execution_count": null,
      "outputs": [
        {
          "output_type": "stream",
          "text": [
            "Mounted at /content/gdrive\n"
          ],
          "name": "stdout"
        }
      ]
    },
    {
      "cell_type": "markdown",
      "metadata": {
        "id": "mTxQPVuy9LTx"
      },
      "source": [
        "Since we have a separate test set, we break it into train and validation sets. (note: our sampling is not stratified atm)"
      ]
    },
    {
      "cell_type": "code",
      "metadata": {
        "id": "Dd6IHNuE9YXy"
      },
      "source": [
        "y = df['y']\n",
        "y = y.astype('int')\n",
        "X = df.drop('y',1)\n",
        "\n",
        "\n",
        "from sklearn.model_selection import train_test_split\n",
        "\n",
        "X_train, X_val, y_train, y_val = train_test_split(X, y, test_size=0.25, random_state=1)"
      ],
      "execution_count": null,
      "outputs": []
    },
    {
      "cell_type": "markdown",
      "metadata": {
        "id": "NY68RrvQD4tq"
      },
      "source": [
        "Now that the data is split into train and validation, I start with logistic regression:"
      ]
    },
    {
      "cell_type": "code",
      "metadata": {
        "id": "iaFVtShhBsSr",
        "colab": {
          "base_uri": "https://localhost:8080/"
        },
        "outputId": "175474ea-bac5-4c7a-b2d8-2ebe9416df0d"
      },
      "source": [
        "from sklearn.linear_model import LogisticRegression\n",
        "model = LogisticRegression()\n",
        "model.fit(X_train, y_train)\n",
        "y_pred = model.predict(X_val)\n",
        "\n",
        "from sklearn.metrics import accuracy_score\n",
        "print('Logistic Regression Accuracy: ', accuracy_score(y_val, y_pred))"
      ],
      "execution_count": null,
      "outputs": [
        {
          "output_type": "stream",
          "text": [
            "Logistic Regression Accuracy:  0.8336063336063336\n"
          ],
          "name": "stdout"
        }
      ]
    },
    {
      "cell_type": "markdown",
      "metadata": {
        "id": "dzj-G46aGRmk"
      },
      "source": [
        "Accuracy seem to be good. Let's dig a bit deeper:"
      ]
    },
    {
      "cell_type": "code",
      "metadata": {
        "colab": {
          "base_uri": "https://localhost:8080/"
        },
        "id": "X4Vgj_dEGaFT",
        "outputId": "813ef3c6-cb82-445a-a354-a3fb3d485656"
      },
      "source": [
        "from sklearn.metrics import confusion_matrix\n",
        "print(confusion_matrix(y_val, y_pred))\n",
        "\n",
        "from sklearn.metrics import precision_score\n",
        "from sklearn.metrics import recall_score\n",
        "from sklearn.metrics import f1_score\n",
        "\n",
        "print('Precision:', precision_score(y_val, y_pred))\n",
        "print('Recall:', recall_score(y_val, y_pred))\n",
        "print('F1:', f1_score(y_val, y_pred))\n"
      ],
      "execution_count": null,
      "outputs": [
        {
          "output_type": "stream",
          "text": [
            "[[5269  315]\n",
            " [ 904  838]]\n",
            "Precision: 0.7267996530789246\n",
            "Recall: 0.48105625717566014\n",
            "F1: 0.5789291882556131\n"
          ],
          "name": "stdout"
        }
      ]
    },
    {
      "cell_type": "code",
      "metadata": {
        "colab": {
          "base_uri": "https://localhost:8080/",
          "height": 295
        },
        "id": "8F1x7bfjKror",
        "outputId": "bfc73b06-1cfc-4a87-de82-8b2391e90c87"
      },
      "source": [
        "from sklearn.metrics import roc_curve\n",
        "from sklearn.metrics import auc\n",
        "fpr, tpr, threshold = roc_curve(y_val, y_pred)\n",
        "roc_auc = auc(fpr, tpr)\n",
        "\n",
        "import matplotlib.pyplot as plt\n",
        "plt.title('ROC')\n",
        "plt.plot(fpr, tpr, 'b', label = 'AUC = %0.2f' % roc_auc)\n",
        "plt.legend(loc = 'lower right')\n",
        "plt.plot([0, 1], [0, 1],'r--')\n",
        "plt.xlim([0, 1])\n",
        "plt.ylim([0, 1])\n",
        "plt.ylabel('True Positive Rate')\n",
        "plt.xlabel('False Positive Rate')\n",
        "plt.show()"
      ],
      "execution_count": null,
      "outputs": [
        {
          "output_type": "display_data",
          "data": {
            "image/png": "[encoded data removed]",
            "text/plain": [
              "<Figure size 432x288 with 1 Axes>"
            ]
          },
          "metadata": {
            "tags": [],
            "needs_background": "light"
          }
        }
      ]
    },
    {
      "cell_type": "markdown",
      "metadata": {
        "id": "85SbjZ2XGbdI"
      },
      "source": [
        "As expected (from looking at the labels in EDA) the accuracy is good because the data is imbalanced. The confusion matrix confirms it. Recall is not good, asn as a result F1. The ROC cureve tells us that the classifier is bettar than random (no classifer), but not that good either. Before k-fold X validation or using more advanced models, or tuning, we need to tackle the imbalanced nature of the data. Let's have a look at the label count:"
      ]
    },
    {
      "cell_type": "code",
      "metadata": {
        "id": "zSrgD4leSIIb"
      },
      "source": [
        "# wrapping evaluations in a function for ease of use\n",
        "from sklearn.metrics import mean_absolute_error\n",
        "from sklearn.metrics import f1_score\n",
        "from sklearn.metrics import precision_score\n",
        "from sklearn.metrics import recall_score\n",
        "from sklearn.metrics import accuracy_score\n",
        "from sklearn.metrics import roc_curve\n",
        "from sklearn.metrics import auc\n",
        "from sklearn.metrics import confusion_matrix\n",
        "def evaluate_model(y_val, y_pred):\n",
        "  print(confusion_matrix(y_val, y_pred))\n",
        "  print('Precision:', precision_score(y_val, y_pred))\n",
        "  print('Recall:', recall_score(y_val, y_pred))\n",
        "  print('F1:', f1_score(y_val, y_pred))\n",
        "  print('Accuracy: ', accuracy_score(y_val, y_pred))\n",
        "  print('Mean abs error: ', mean_absolute_error(y_val, y_pred))\n",
        "  fpr, tpr, threshold = roc_curve(y_val, y_pred)\n",
        "  roc_auc = auc(fpr, tpr)\n",
        "  plt.title('ROC')\n",
        "  plt.plot(fpr, tpr, 'b', label = 'AUC = %0.2f' % roc_auc)\n",
        "  plt.legend(loc = 'lower right')\n",
        "  plt.plot([0, 1], [0, 1],'r--')\n",
        "  plt.xlim([0, 1])\n",
        "  plt.ylim([0, 1])\n",
        "  plt.ylabel('True Positive Rate')\n",
        "  plt.xlabel('False Positive Rate')\n",
        "  plt.show()\n"
      ],
      "execution_count": null,
      "outputs": []
    },
    {
      "cell_type": "code",
      "metadata": {
        "colab": {
          "base_uri": "https://localhost:8080/"
        },
        "id": "1pcecj6mPP5o",
        "outputId": "8e0d3f24-6107-43e2-c896-e830a94c1649"
      },
      "source": [
        "y.value_counts() # getting the count of values in pandas"
      ],
      "execution_count": null,
      "outputs": [
        {
          "output_type": "execute_result",
          "data": {
            "text/plain": [
              "0    22247\n",
              "1     7057\n",
              "Name: y, dtype: int64"
            ]
          },
          "metadata": {
            "tags": []
          },
          "execution_count": 25
        }
      ]
    },
    {
      "cell_type": "markdown",
      "metadata": {
        "id": "-dUgkHg9PqqO"
      },
      "source": [
        "# Adressing the imbanced data\n",
        "\n",
        "A few approach to fix imbalanced problem:\n",
        "* Random under-sampling: reducing observations from the majority label\n",
        "* Random over-sampling: adding more copies from the minority label\n",
        "* Synthetic Minority Oversampling Technique (SMOTE): Creates synthetic points from the minority. (chooses random points in the knn of minority points)\n",
        "\n",
        "\n",
        "Let's start with **under-sampling**:\n"
      ]
    },
    {
      "cell_type": "markdown",
      "metadata": {
        "id": "10p71uVW5RFJ"
      },
      "source": [
        "We split data in to train and validation sets. Sampling approaches are applied on the test only and are validated using validation set."
      ]
    },
    {
      "cell_type": "code",
      "metadata": {
        "colab": {
          "base_uri": "https://localhost:8080/",
          "height": 417
        },
        "id": "-jFxeVTH5WJD",
        "outputId": "7bb3355b-2d10-49a1-8ae9-1977e33655fd"
      },
      "source": [
        "#splitting\n",
        "X_train, X_val, y_train, y_val = train_test_split(X, y, test_size=0.20, random_state=1)\n",
        "\n",
        "from imblearn.under_sampling import RandomUnderSampler\n",
        "from sklearn.linear_model import LogisticRegression\n",
        "\n",
        "under_sampler = RandomUnderSampler()\n",
        "X_rus_train, y_rus_train = under_sampler.fit_resample(X_train, y_train)\n",
        "\n",
        "model = LogisticRegression()\n",
        "model.fit(X_rus_train, y_rus_train)\n",
        "y_rus_pred = model.predict(X_val)\n",
        "\n",
        "\n",
        "evaluate_model(y_val, y_rus_pred) #evaluating"
      ],
      "execution_count": null,
      "outputs": [
        {
          "output_type": "stream",
          "text": [
            "[[3507  940]\n",
            " [ 346 1068]]\n",
            "Precision: 0.5318725099601593\n",
            "Recall: 0.7553041018387553\n",
            "F1: 0.624196376388077\n",
            "Accuracy:  0.7805835181709606\n",
            "Mean abs error:  0.21941648182903942\n"
          ],
          "name": "stdout"
        },
        {
          "output_type": "display_data",
          "data": {
            "image/png": "[encoded data removed]",
            "text/plain": [
              "<Figure size 432x288 with 1 Axes>"
            ]
          },
          "metadata": {
            "tags": [],
            "needs_background": "light"
          }
        }
      ]
    },
    {
      "cell_type": "markdown",
      "metadata": {
        "id": "xjZd2XnvVlQq"
      },
      "source": [
        "As we can see recall and F1 have improved considerably better. Now let's use **over-sampling**:"
      ]
    },
    {
      "cell_type": "code",
      "metadata": {
        "colab": {
          "base_uri": "https://localhost:8080/",
          "height": 417
        },
        "id": "o6pcM_kC6nVQ",
        "outputId": "97810363-ea66-43ed-851d-99a55a753fe7"
      },
      "source": [
        "from imblearn.over_sampling import RandomOverSampler\n",
        "over_sampler = RandomOverSampler()\n",
        "X_ros_train, y_ros_train = over_sampler.fit_resample(X_train, y_train)\n",
        "\n",
        "model = LogisticRegression()\n",
        "model.fit(X_ros_train, y_ros_train)\n",
        "y_ros_pred = model.predict(X_val)\n",
        "\n",
        "evaluate_model(y_val, y_ros_pred)"
      ],
      "execution_count": null,
      "outputs": [
        {
          "output_type": "stream",
          "text": [
            "[[4420 1164]\n",
            " [ 425 1317]]\n",
            "Precision: 0.5308343409915357\n",
            "Recall: 0.7560275545350172\n",
            "F1: 0.6237272081458679\n",
            "Accuracy:  0.7831012831012831\n",
            "Mean abs error:  0.2168987168987169\n"
          ],
          "name": "stdout"
        },
        {
          "output_type": "display_data",
          "data": {
            "image/png": "[encoded data removed]",
            "text/plain": [
              "<Figure size 432x288 with 1 Axes>"
            ]
          },
          "metadata": {
            "tags": [],
            "needs_background": "light"
          }
        }
      ]
    },
    {
      "cell_type": "markdown",
      "metadata": {
        "id": "0Hv6eAxiXPJW"
      },
      "source": [
        "The metrics are quite similar. Now **SMOTE**:"
      ]
    },
    {
      "cell_type": "code",
      "metadata": {
        "colab": {
          "base_uri": "https://localhost:8080/",
          "height": 417
        },
        "id": "cPQtT4jE7oj8",
        "outputId": "2106557e-3e31-4316-f0d5-349fe622a388"
      },
      "source": [
        "from imblearn.over_sampling import SMOTE\n",
        "smote = SMOTE()\n",
        "X_smote_train, y_smote_train = smote.fit_resample(X_train, y_train)\n",
        "\n",
        "model = LogisticRegression()\n",
        "model.fit(X_smote_train, y_smote_train)\n",
        "y_smote_pred = model.predict(X_val)\n",
        "\n",
        "evaluate_model(y_val, y_smote_pred)"
      ],
      "execution_count": null,
      "outputs": [
        {
          "output_type": "stream",
          "text": [
            "[[3502  945]\n",
            " [ 345 1069]]\n",
            "Precision: 0.5307845084409136\n",
            "Recall: 0.756011315417256\n",
            "F1: 0.6236872812135356\n",
            "Accuracy:  0.7799010407780242\n",
            "Mean abs error:  0.22009895922197578\n"
          ],
          "name": "stdout"
        },
        {
          "output_type": "display_data",
          "data": {
            "image/png": "[encoded data removed]",
            "text/plain": [
              "<Figure size 432x288 with 1 Axes>"
            ]
          },
          "metadata": {
            "tags": [],
            "needs_background": "light"
          }
        }
      ]
    },
    {
      "cell_type": "markdown",
      "metadata": {
        "id": "hhivatxh5L7x"
      },
      "source": [
        "The results are quite similar for all three approaches."
      ]
    },
    {
      "cell_type": "markdown",
      "metadata": {
        "id": "Z2AUbbLGX8bs"
      },
      "source": [
        "# Buliding models\n",
        "\n",
        "The results are quite similar to under-sampling but worse than oversampling. (To use over-sampling with k-fold we need to make sure not to k-fold after oversampling -- causes leakage). For now, I go with simple random over sampling split and will use different algorithms/models.\n",
        "\n",
        "**SVM**"
      ]
    },
    {
      "cell_type": "code",
      "metadata": {
        "colab": {
          "base_uri": "https://localhost:8080/",
          "height": 417
        },
        "id": "ZfouunEhb5vh",
        "outputId": "812142e2-11a9-4cb5-cdc4-cb8e575ccdda"
      },
      "source": [
        "from sklearn import svm\n",
        "model = svm.SVC(kernel='linear')\n",
        "model.fit(X_ros_train, y_ros_train)\n",
        "y_ros_pred = model.predict(X_val)\n",
        "\n",
        "evaluate_model(y_val, y_ros_pred)"
      ],
      "execution_count": null,
      "outputs": [
        {
          "output_type": "stream",
          "text": [
            "[[3522  925]\n",
            " [ 352 1062]]\n",
            "Precision: 0.5344740815299447\n",
            "Recall: 0.751060820367751\n",
            "F1: 0.6245221993531314\n",
            "Accuracy:  0.7821190923050674\n",
            "Mean abs error:  0.2178809076949326\n"
          ],
          "name": "stdout"
        },
        {
          "output_type": "display_data",
          "data": {
            "image/png": "[encoded data removed]",
            "text/plain": [
              "<Figure size 432x288 with 1 Axes>"
            ]
          },
          "metadata": {
            "tags": [],
            "needs_background": "light"
          }
        }
      ]
    },
    {
      "cell_type": "markdown",
      "metadata": {
        "id": "GN6dvq1Sd9op"
      },
      "source": [
        "SVM's results are slightly better than logistic regression. Let's try RBF (Radial Basis Function) kernel as well"
      ]
    },
    {
      "cell_type": "code",
      "metadata": {
        "colab": {
          "base_uri": "https://localhost:8080/",
          "height": 417
        },
        "id": "1gT1z1Bld8ka",
        "outputId": "6ccaca4d-e4f7-457e-ee24-1836705f434d"
      },
      "source": [
        "model = svm.SVC(kernel='rbf')\n",
        "model.fit(X_ros_train, y_ros_train)\n",
        "y_ros_pred = model.predict(X_val)\n",
        "evaluate_model(y_val, y_ros_pred)"
      ],
      "execution_count": null,
      "outputs": [
        {
          "output_type": "stream",
          "text": [
            "[[3537  910]\n",
            " [ 354 1060]]\n",
            "Precision: 0.5380710659898477\n",
            "Recall: 0.7496463932107497\n",
            "F1: 0.6264775413711583\n",
            "Accuracy:  0.7843371438321105\n",
            "Mean abs error:  0.21566285616788944\n"
          ],
          "name": "stdout"
        },
        {
          "output_type": "display_data",
          "data": {
            "image/png": "[encoded data removed]",
            "text/plain": [
              "<Figure size 432x288 with 1 Axes>"
            ]
          },
          "metadata": {
            "tags": [],
            "needs_background": "light"
          }
        }
      ]
    },
    {
      "cell_type": "markdown",
      "metadata": {
        "id": "Y_oRiIl2sDG4"
      },
      "source": [
        "Random Forest:"
      ]
    },
    {
      "cell_type": "code",
      "metadata": {
        "colab": {
          "base_uri": "https://localhost:8080/",
          "height": 417
        },
        "id": "0EgJUyU4rXKE",
        "outputId": "edcb35e9-2d22-4c16-c443-a4b9e58665a5"
      },
      "source": [
        "from sklearn.ensemble import RandomForestClassifier\n",
        "model = RandomForestClassifier()\n",
        "model.fit(X_ros_train, y_ros_train)\n",
        "y_ros_pred = model.predict(X_val)\n",
        "\n",
        "evaluate_model(y_val, y_ros_pred)"
      ],
      "execution_count": null,
      "outputs": [
        {
          "output_type": "stream",
          "text": [
            "[[3993  454]\n",
            " [ 555  859]]\n",
            "Precision: 0.6542269611576542\n",
            "Recall: 0.6074964639321075\n",
            "F1: 0.62999633296663\n",
            "Accuracy:  0.8278450776318035\n",
            "Mean abs error:  0.17215492236819654\n"
          ],
          "name": "stdout"
        },
        {
          "output_type": "display_data",
          "data": {
            "image/png": "[encoded data removed]",
            "text/plain": [
              "<Figure size 432x288 with 1 Axes>"
            ]
          },
          "metadata": {
            "tags": [],
            "needs_background": "light"
          }
        }
      ]
    },
    {
      "cell_type": "markdown",
      "metadata": {
        "id": "YgfweAFjcfYO"
      },
      "source": [
        "Compared to SVM and LR, Random forest improves most of the metrics (except for recall and auc). Let's give xGboost a try as well:"
      ]
    },
    {
      "cell_type": "code",
      "metadata": {
        "colab": {
          "base_uri": "https://localhost:8080/",
          "height": 417
        },
        "id": "uO7kBMM-aKbb",
        "outputId": "207da977-976e-4a1a-c5e1-e6220df5b0a2"
      },
      "source": [
        "from xgboost import XGBClassifier\n",
        "model = XGBClassifier()\n",
        "\n",
        "X_ros_train = pd.DataFrame(X_ros_train)\n",
        "X_ros_train.columns = X_train.columns\n",
        "\n",
        "model.fit(X_ros_train, y_ros_train)\n",
        "y_ros_pred = model.predict(X_val)\n",
        "evaluate_model(y_val, y_ros_pred)"
      ],
      "execution_count": null,
      "outputs": [
        {
          "output_type": "stream",
          "text": [
            "[[3587  860]\n",
            " [ 300 1114]]\n",
            "Precision: 0.5643363728470111\n",
            "Recall: 0.7878359264497878\n",
            "F1: 0.6576151121605668\n",
            "Accuracy:  0.8020815560484559\n",
            "Mean abs error:  0.1979184439515441\n"
          ],
          "name": "stdout"
        },
        {
          "output_type": "display_data",
          "data": {
            "image/png": "[encoded data removed]",
            "text/plain": [
              "<Figure size 432x288 with 1 Axes>"
            ]
          },
          "metadata": {
            "tags": [],
            "needs_background": "light"
          }
        }
      ]
    },
    {
      "cell_type": "markdown",
      "metadata": {
        "id": "NbmVDObFOASF"
      },
      "source": [
        "As we can see XGBoost beats SVM and LR in all metrics. XGBoost and RF are comparable(in some metrics XGB outperforms RF, in the rest RF outperforms). If we set F1 as our most important metric, XGB is the best so far. Let's see how catBoost performs:"
      ]
    },
    {
      "cell_type": "code",
      "metadata": {
        "colab": {
          "base_uri": "https://localhost:8080/",
          "height": 417
        },
        "id": "OzyEuioIRtrz",
        "outputId": "64efa8b4-cf10-4d3b-e001-b85661e63811"
      },
      "source": [
        "from catboost import CatBoostClassifier\n",
        "\n",
        "model = CatBoostClassifier(logging_level='Silent')\n",
        "model.fit(X_ros_train, y_ros_train)\n",
        "y_ros_pred = model.predict(X_val)\n",
        "evaluate_model(y_val, y_ros_pred)"
      ],
      "execution_count": null,
      "outputs": [
        {
          "output_type": "stream",
          "text": [
            "[[3744  703]\n",
            " [ 325 1089]]\n",
            "Precision: 0.6077008928571429\n",
            "Recall: 0.7701555869872702\n",
            "F1: 0.6793512164691204\n",
            "Accuracy:  0.8246033100153557\n",
            "Mean abs error:  0.17539668998464425\n"
          ],
          "name": "stdout"
        },
        {
          "output_type": "display_data",
          "data": {
            "image/png": "[encoded data removed]",
            "text/plain": [
              "<Figure size 432x288 with 1 Axes>"
            ]
          },
          "metadata": {
            "tags": [],
            "needs_background": "light"
          }
        }
      ]
    },
    {
      "cell_type": "markdown",
      "metadata": {
        "id": "SZFRlxtUSXwo"
      },
      "source": [
        "catBoost outperforms all other models. I must add that each of the tried models has its own parameters. In order to select a model, we can tune their input parameters. Here, I just went with default parameters. Based on default parameters, among the tried models, we have a winner: catBoost."
      ]
    },
    {
      "cell_type": "markdown",
      "metadata": {
        "id": "lp42j6KGVIsM"
      },
      "source": [
        "### Stratified k-fold random over-sampling\n",
        "\n",
        "In order to choose the best model, it's better to use all of training set (here X_train). k-fold cross validation ensures this. However, we have an imbalanced dataset. In such cases, we can use stratified k-fold cross validation. That means in each step of the k-fold cross valdiation, a sampling (here over-sampling) is performed.\n",
        "\n",
        "According to Andrew Ng [1], when we want to select a model, it's best to focus on the most important metric. Otherwise, we end up with a multi-objective optimisation problem. To choose the best model, we can perform k-fold cross validation for all model and select the best one. For demonstration, I try stratified 10-fold cross validation for a couple of models and set F1 and the performance metric."
      ]
    },
    {
      "cell_type": "code",
      "metadata": {
        "colab": {
          "base_uri": "https://localhost:8080/"
        },
        "id": "Q0fJMjAMXFZ8",
        "outputId": "0bb6b006-473f-4097-8697-ffc4b87e20f3"
      },
      "source": [
        "from sklearn.model_selection import cross_val_score\n",
        "from sklearn.model_selection import RepeatedStratifiedKFold\n",
        "from imblearn.pipeline import Pipeline\n",
        "\n",
        "\n",
        "# define pipeline\n",
        "steps = [('over', RandomOverSampler()), ('model', CatBoostClassifier(logging_level='Silent'))]\n",
        "pipeline = Pipeline(steps=steps)\n",
        "# evaluate pipeline\n",
        "cv = RepeatedStratifiedKFold(n_splits=10, n_repeats=3, random_state=1)\n",
        "scores = cross_val_score(pipeline, X, y, scoring='f1_micro', cv=cv, n_jobs=-1)\n",
        "score = np.mean(scores)\n",
        "print('F1 Score:', score)"
      ],
      "execution_count": null,
      "outputs": [
        {
          "output_type": "stream",
          "text": [
            "F1 Score: 0.8166805079591312\n"
          ],
          "name": "stdout"
        }
      ]
    },
    {
      "cell_type": "code",
      "metadata": {
        "colab": {
          "base_uri": "https://localhost:8080/"
        },
        "id": "T3rMNkpPvhfA",
        "outputId": "2c2d0291-3dea-4fc4-dc1b-4ed8345d78d9"
      },
      "source": [
        "# define pipeline\n",
        "steps = [('over', RandomOverSampler()), ('model', LogisticRegression())]\n",
        "pipeline = Pipeline(steps=steps)\n",
        "# evaluate pipeline\n",
        "cv = RepeatedStratifiedKFold(n_splits=10, n_repeats=3, random_state=1)\n",
        "scores = cross_val_score(pipeline, X, y, scoring='f1_micro', cv=cv, n_jobs=-1)\n",
        "score = np.mean(scores)\n",
        "print('F1 Score:', score)"
      ],
      "execution_count": null,
      "outputs": [
        {
          "output_type": "stream",
          "text": [
            "F1 Score: 0.7783581843919439\n"
          ],
          "name": "stdout"
        }
      ]
    },
    {
      "cell_type": "markdown",
      "metadata": {
        "id": "oHRG0EjzQHVS"
      },
      "source": [
        "### Model Parameters Tunning\n",
        "\n",
        "catBoost has two important parameters: *learning_rate* and *l2_leaf_reg* (learning rate and leaf regularisation term). I optimise the model using *hyperopt* package. The goal is to find the best model parameters that maximise F1."
      ]
    },
    {
      "cell_type": "code",
      "metadata": {
        "id": "us3nKj0wsj8V"
      },
      "source": [
        "import hyperopt\n",
        "from catboost import CatBoostClassifier\n",
        "\n",
        "def hyperopt_objective(params):\n",
        "    model = CatBoostClassifier(\n",
        "        l2_leaf_reg=int(params['l2_leaf_reg']),\n",
        "        learning_rate=params['learning_rate'],\n",
        "        iterations=500,\n",
        "        eval_metric='F1',\n",
        "        verbose=False,\n",
        "        loss_function='Logloss'\n",
        "    )\n",
        "\n",
        "    model.fit(X_ros_train, y_ros_train)\n",
        "    y_ros_pred = model.predict(X_val)\n",
        "\n",
        "    return 1 - f1_score(y_val, y_ros_pred) # as hyperopt minimises"
      ],
      "execution_count": null,
      "outputs": []
    },
    {
      "cell_type": "code",
      "metadata": {
        "colab": {
          "base_uri": "https://localhost:8080/"
        },
        "id": "J_RpWIPYvvMk",
        "outputId": "8f4be12e-7e40-4f15-b543-18d35250a5c3"
      },
      "source": [
        "from numpy.random import RandomState\n",
        "\n",
        "# these param ranges are recommended by catBoost help\n",
        "params_space = {\n",
        "    'l2_leaf_reg': hyperopt.hp.qloguniform('l2_leaf_reg', 0, 2, 1),\n",
        "    'learning_rate': hyperopt.hp.uniform('learning_rate', 1e-3, 5e-1),\n",
        "}\n",
        "\n",
        "trials = hyperopt.Trials()\n",
        "\n",
        "best = hyperopt.fmin(\n",
        "    hyperopt_objective,\n",
        "    space=params_space,\n",
        "    algo=hyperopt.tpe.suggest,\n",
        "    max_evals=50,\n",
        "    trials=trials\n",
        ")\n",
        "\n",
        "print(best)"
      ],
      "execution_count": null,
      "outputs": [
        {
          "output_type": "stream",
          "text": [
            "100%|██████████| 50/50 [07:54<00:00,  9.48s/it, best loss: 0.31604226705091265]\n",
            "{'l2_leaf_reg': 1.0, 'learning_rate': 0.11853557179959676}\n"
          ],
          "name": "stdout"
        }
      ]
    },
    {
      "cell_type": "markdown",
      "metadata": {
        "id": "wrdvIIIczr6s"
      },
      "source": [
        "Now that we have the opimal parameters, we build a model with the optimal paramters and test on the validation set:"
      ]
    },
    {
      "cell_type": "code",
      "metadata": {
        "id": "q1WyiYyrsvxM"
      },
      "source": [],
      "execution_count": null,
      "outputs": []
    },
    {
      "cell_type": "code",
      "metadata": {
        "colab": {
          "base_uri": "https://localhost:8080/",
          "height": 417
        },
        "id": "7EXh6oGNQVTX",
        "outputId": "f00aea97-02e9-48e2-d8ae-2f66fb9c6d0a"
      },
      "source": [
        "model = CatBoostClassifier(\n",
        "        l2_leaf_reg=int(best['l2_leaf_reg']),\n",
        "        learning_rate= best['learning_rate'],\n",
        "        iterations=500,\n",
        "        eval_metric='F1',\n",
        "        verbose=False,\n",
        "        loss_function='Logloss'\n",
        ")\n",
        "model.fit(X_ros_train, y_ros_train)\n",
        "y_ros_pred = model.predict(X_val)\n",
        "evaluate_model(y_val, y_ros_pred)"
      ],
      "execution_count": null,
      "outputs": [
        {
          "output_type": "stream",
          "text": [
            "[[3806  641]\n",
            " [ 346 1068]]\n",
            "Precision: 0.6249268578115857\n",
            "Recall: 0.7553041018387553\n",
            "F1: 0.6839577329490873\n",
            "Accuracy:  0.8315987032929534\n",
            "Mean abs error:  0.16840129670704657\n"
          ],
          "name": "stdout"
        },
        {
          "output_type": "display_data",
          "data": {
            "image/png": "[encoded data removed]",
            "text/plain": [
              "<Figure size 432x288 with 1 Axes>"
            ]
          },
          "metadata": {
            "tags": [],
            "needs_background": "light"
          }
        }
      ]
    },
    {
      "cell_type": "markdown",
      "metadata": {
        "id": "ZHV05_XHz_u0"
      },
      "source": [
        "After paramater tunning all metrics (except recall) are improved."
      ]
    },
    {
      "cell_type": "markdown",
      "metadata": {
        "id": "exgUnbIf0Rqm"
      },
      "source": [
        "## Building the final model\n",
        "\n",
        "Moment of truth! Now that we have a model with good parameters, it's time to build a model based on the entirity of traning data.\n",
        "\n",
        "First step, random over sampling:"
      ]
    },
    {
      "cell_type": "code",
      "metadata": {
        "id": "nutr6nRvRkil"
      },
      "source": [
        "from imblearn.over_sampling import RandomOverSampler\n",
        "over_sampler = RandomOverSampler()\n",
        "X_ros, y_ros = over_sampler.fit_resample(X, y)"
      ],
      "execution_count": null,
      "outputs": []
    },
    {
      "cell_type": "markdown",
      "metadata": {
        "id": "cyjDhBrvRxM5"
      },
      "source": [
        "Second step, train the model with optimal parameters using all of training data (ofc, using random over sampler)"
      ]
    },
    {
      "cell_type": "code",
      "metadata": {
        "colab": {
          "base_uri": "https://localhost:8080/"
        },
        "id": "HS1oR8M6SC5n",
        "outputId": "fbf0b695-739c-49f6-e865-ec79df3cd3ca"
      },
      "source": [
        "model = CatBoostClassifier(\n",
        "        l2_leaf_reg=int(best['l2_leaf_reg']),\n",
        "        learning_rate= best['learning_rate'],\n",
        "        iterations=500,\n",
        "        eval_metric='F1',\n",
        "        verbose=False,\n",
        "        loss_function='Logloss'\n",
        ")\n",
        "model.fit(X_ros, y_ros)"
      ],
      "execution_count": null,
      "outputs": [
        {
          "output_type": "execute_result",
          "data": {
            "text/plain": [
              "<catboost.core.CatBoostClassifier at 0x7f317ce222e8>"
            ]
          },
          "metadata": {
            "tags": []
          },
          "execution_count": 48
        }
      ]
    },
    {
      "cell_type": "markdown",
      "metadata": {
        "id": "VEQGgKCPSMQe"
      },
      "source": [
        "Final step, predicting the test result:"
      ]
    },
    {
      "cell_type": "code",
      "metadata": {
        "id": "OPzVl_GMSb17"
      },
      "source": [
        "y_test = model.predict(df_test)\n",
        "\n",
        "#attaching the results to the test set and exporting it\n",
        "df_test_csv = pd.read_csv(\"/content/gdrive/My Drive/aminFiles/classification_task_test.csv\")\n",
        "df_test_csv['y'] = y_test.astype('bool')\n",
        "df_test_csv.to_csv(\"/content/gdrive/My Drive/aminFiles/classification_task_test_answer.csv\")"
      ],
      "execution_count": null,
      "outputs": []
    },
    {
      "cell_type": "markdown",
      "metadata": {
        "id": "PoNZhyeLU2Ko"
      },
      "source": [
        "# Summary and Conclusion\n",
        "\n",
        "The steps that I've taken can be summarised as follow\n",
        "* Exploratory data analysis: looking and the distrbution of features, investigating numerical and categorical variables.\n",
        "* Addressing missing values usin k-NN impute\n",
        "* Scaling and feature transformation\n",
        "* Adressing imbalanced nature of the dataset\n",
        "* Bulding, analysing, and tunning models\n",
        "\n",
        "In my view an important key to the whole process is **iteration**. We need to iterate several times and choose the best approaches and parameters.\n",
        "\n",
        "\n",
        "\n"
      ]
    },
    {
      "cell_type": "markdown",
      "metadata": {
        "id": "mUrthxAuM57g"
      },
      "source": [
        "# Appendix\n",
        "\n",
        "Below is some of the things that I did for this task which I like to include them as apendix. Some of them provide extra information and some other are aras for further investigations.\n",
        "\n",
        "## Learning Curves (bias-variance trade-off)\n",
        "Learning curves are good to analyse bias-variance trade-off. Based on them we can decide, if we should add/remove features, add/remove samples, or use more complex models or not. Here I use a code from scikit (https://scikit-learn.org/stable/auto_examples/model_selection/plot_learning_curve.html) to plot learning curves for logistic regression and SVM."
      ]
    },
    {
      "cell_type": "code",
      "metadata": {
        "id": "dQMbxfHblvVV"
      },
      "source": [
        "import numpy as np\n",
        "import matplotlib.pyplot as plt\n",
        "from sklearn.svm import SVC\n",
        "from sklearn.datasets import load_digits\n",
        "from sklearn.model_selection import learning_curve\n",
        "from sklearn.model_selection import ShuffleSplit\n",
        "\n",
        "\n",
        "def plot_learning_curve(estimator, title, X, y, axes=None, ylim=None, cv=None,\n",
        "                        n_jobs=None, train_sizes=np.linspace(.1, 1.0, 5)):\n",
        "\n",
        "    if axes is None:\n",
        "        _, axes = plt.subplots(1, 3, figsize=(20, 5))\n",
        "\n",
        "    axes[0].set_title(title)\n",
        "    if ylim is not None:\n",
        "        axes[0].set_ylim(*ylim)\n",
        "    axes[0].set_xlabel(\"Training examples\")\n",
        "    axes[0].set_ylabel(\"Score\")\n",
        "\n",
        "    train_sizes, train_scores, test_scores, fit_times, _ = \\\n",
        "        learning_curve(estimator, X, y, cv=cv, n_jobs=n_jobs,\n",
        "                       train_sizes=train_sizes,\n",
        "                       return_times=True)\n",
        "\n",
        "    train_scores_mean = np.mean(train_scores, axis=1)\n",
        "    train_scores_std = np.std(train_scores, axis=1)\n",
        "    test_scores_mean = np.mean(test_scores, axis=1)\n",
        "    test_scores_std = np.std(test_scores, axis=1)\n",
        "    fit_times_mean = np.mean(fit_times, axis=1)\n",
        "    fit_times_std = np.std(fit_times, axis=1)\n",
        "\n",
        "    # Plot learning curve\n",
        "    axes[0].grid()\n",
        "    axes[0].fill_between(train_sizes, train_scores_mean - train_scores_std,\n",
        "                         train_scores_mean + train_scores_std, alpha=0.1,\n",
        "                         color=\"r\")\n",
        "    axes[0].fill_between(train_sizes, test_scores_mean - test_scores_std,\n",
        "                         test_scores_mean + test_scores_std, alpha=0.1,\n",
        "                         color=\"g\")\n",
        "    axes[0].plot(train_sizes, train_scores_mean, 'o-', color=\"r\",\n",
        "                 label=\"Training score\")\n",
        "    axes[0].plot(train_sizes, test_scores_mean, 'o-', color=\"g\",\n",
        "                 label=\"Cross-validation score\")\n",
        "    axes[0].legend(loc=\"best\")\n",
        "\n",
        "    return plt\n",
        "\n",
        "\n",
        "fig, axes = plt.subplots(1, 2, figsize=(10, 5))\n",
        "\n",
        "\n",
        "title = \"Logistic Regression\"\n",
        "\n",
        "cv = ShuffleSplit(n_splits=10, test_size=0.2, random_state=0)\n",
        "\n",
        "model = LogisticRegression()\n",
        "\n",
        "plot_learning_curve(model, title, X, y, cv=cv, n_jobs=1)\n",
        "\n",
        "title = r\"SVM\"\n",
        "\n",
        "\n",
        "cv = ShuffleSplit(n_splits=10, test_size=0.2, random_state=0)\n",
        "\n",
        "from sklearn import svm\n",
        "estimator = svm.SVC(kernel='linear')\n",
        "plot_learning_curve(estimator, title, X, y,\n",
        "                    cv=cv, n_jobs=1)\n",
        "\n",
        "plt.show()"
      ],
      "execution_count": null,
      "outputs": []
    },
    {
      "cell_type": "markdown",
      "metadata": {
        "id": "kEhvVKj8UF39"
      },
      "source": [
        "![Selection_119.png](data:image/png;base64,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)"
      ]
    },
    {
      "cell_type": "markdown",
      "metadata": {
        "id": "wAucE60pTngI"
      },
      "source": [
        "This code above performs ordinary random sampling and it's obvious there's a high bias. This is expected because of the imbalanced data. The code needs to be modified: sampling must change into random over-sampling. Unfortunately, there's not enough time to make these changes now. Anyway, a part of analysis is to plot learning curves for different models and features and analyse bias-variance trade-off."
      ]
    },
    {
      "cell_type": "markdown",
      "metadata": {
        "id": "fBmeuYMXfy6e"
      },
      "source": [
        "## More features engineering\n",
        "\n",
        "From EDA we remember that a couple of features were highly skewed."
      ]
    },
    {
      "cell_type": "code",
      "metadata": {
        "colab": {
          "base_uri": "https://localhost:8080/"
        },
        "id": "hofNDAUnh-Uy",
        "outputId": "e7bf06e2-d796-423f-e6e4-2adc4abc2338"
      },
      "source": [
        "X.skew(axis = 0, skipna = True)[0:7]"
      ],
      "execution_count": null,
      "outputs": [
        {
          "output_type": "execute_result",
          "data": {
            "text/plain": [
              "ae    0.560728\n",
              "fn    0.058533\n",
              "en   -0.315526\n",
              "rd   -0.016200\n",
              "cg    3.546970\n",
              "cl    5.254992\n",
              "hw    0.066615\n",
              "dtype: float64"
            ]
          },
          "metadata": {
            "tags": []
          },
          "execution_count": 46
        }
      ]
    },
    {
      "cell_type": "code",
      "metadata": {
        "colab": {
          "base_uri": "https://localhost:8080/",
          "height": 287
        },
        "id": "Me00LAQKmxVO",
        "outputId": "b46525bd-8743-4cba-fb34-b33394cf83a4"
      },
      "source": [
        "X.skew(axis = 0, skipna = True)[0:7].plot.bar()"
      ],
      "execution_count": null,
      "outputs": [
        {
          "output_type": "execute_result",
          "data": {
            "text/plain": [
              "<matplotlib.axes._subplots.AxesSubplot at 0x7fb221a080f0>"
            ]
          },
          "metadata": {
            "tags": []
          },
          "execution_count": 117
        },
        {
          "output_type": "display_data",
          "data": {
            "image/png": "[encoded data removed]",
            "text/plain": [
              "<Figure size 432x288 with 1 Axes>"
            ]
          },
          "metadata": {
            "tags": [],
            "needs_background": "light"
          }
        }
      ]
    },
    {
      "cell_type": "markdown",
      "metadata": {
        "id": "hjpOt0VfinW8"
      },
      "source": [
        "cg and cl are highly skewed.\n",
        "\n",
        "#### Data transformation:\n",
        "Let's try a few transformations (log, cube root, and sinh) on the highly skewed variables and see if it decreases skewness:"
      ]
    },
    {
      "cell_type": "markdown",
      "metadata": {
        "id": "mSYySpb5lwQ4"
      },
      "source": [
        "log transformation:"
      ]
    },
    {
      "cell_type": "code",
      "metadata": {
        "colab": {
          "base_uri": "https://localhost:8080/"
        },
        "id": "0lGLTv7QqItz",
        "outputId": "99f8e915-6d99-4ddb-c572-9db9721fbbc9"
      },
      "source": [
        "from scipy.stats import skew\n",
        "\n",
        "log_cg = np.log(X['cg']-min(X['cg'])+1)\n",
        "std_log_cg = (log_cg - np.mean(log_cg)) / np.std(log_cg)\n",
        "print('std_log skew cg:', skew(log_cg))\n",
        "print('Sinh skew cg', skew(np.sinh(X['cg'])))\n",
        "cube_cg = np.cbrt(X['cg'])\n",
        "print('cube skew:', skew(cube_cg))\n",
        "\n",
        "log_cl = np.log(X['cl']-min(X['cl'])+1)\n",
        "std_log_cl = (log_cl - np.mean(log_cl)) / np.std(log_cl)\n",
        "print('std_log skew cl:', skew(log_cl))\n",
        "cube_cl = np.cbrt(X['cl'])\n",
        "print('cube skew cl:', skew(cube_cl))\n",
        "\n"
      ],
      "execution_count": null,
      "outputs": [
        {
          "output_type": "stream",
          "text": [
            "std_log skew cg: 3.272027615588268\n",
            "Sinh skew cg 5.354892915783103\n",
            "cube skew: 3.1124200349164592\n",
            "std_log skew cl: 4.596921343290603\n",
            "cube skew cl: 4.382172365648493\n"
          ],
          "name": "stdout"
        }
      ]
    },
    {
      "cell_type": "markdown",
      "metadata": {
        "id": "-x0t0Aplu0rl"
      },
      "source": [
        "Seems log transformation doesn't decrease the skewness that much. Same story goes for sinh and cubic root. One approach is to remove **outliers** and performing transformation afterwards (I tried this one, wasn't helpful). Analysing outliers requires SME knowledge. Another approach is binning the skewed varibles into a number of bins."
      ]
    },
    {
      "cell_type": "code",
      "metadata": {
        "id": "thQOd6s_Dr_D"
      },
      "source": [
        "X_t = X.copy() # t for transformed"
      ],
      "execution_count": null,
      "outputs": []
    },
    {
      "cell_type": "code",
      "metadata": {
        "colab": {
          "base_uri": "https://localhost:8080/"
        },
        "id": "JeRK9q0NDuYH",
        "outputId": "fe7658cc-bb83-4cb0-a899-c7e23c027bae"
      },
      "source": [
        "X_t.columns[:7]"
      ],
      "execution_count": null,
      "outputs": [
        {
          "output_type": "execute_result",
          "data": {
            "text/plain": [
              "Index(['ae', 'fn', 'en', 'rd', 'cg', 'cl', 'hw'], dtype='object')"
            ]
          },
          "metadata": {
            "tags": []
          },
          "execution_count": 182
        }
      ]
    },
    {
      "cell_type": "code",
      "metadata": {
        "id": "p426ZEjxtcu5"
      },
      "source": [
        "#X_t['ae_fn'] = X_t['ae']*X_t['fn']\n",
        "#X_t['en_cg'] = X_t['en']*X_t['cg']\n",
        "#X_t['en_cl'] = X_t['en']*X_t['cl']\n",
        "X_t['cl_3'] = np.cbrt(X_t['cl'])\n",
        "X_t['cg_3'] = np.cbrt(X_t['cg'])\n",
        "X_t['fn_2'] = np.cbrt(X_t['fn'])\n"
      ],
      "execution_count": null,
      "outputs": []
    },
    {
      "cell_type": "code",
      "metadata": {
        "id": "Fnwy2tg2xB6K"
      },
      "source": [
        "#splitting\n",
        "X_t_train, X_t_val, y_t_train, y_t_val = train_test_split(X_t, y, test_size=0.25, random_state=1)\n",
        "\n",
        "#random over-sampling\n",
        "over_sampler = RandomOverSampler()\n",
        "X_t_ros_train, y_t_ros_train = over_sampler.fit_resample(X_t_train, y_t_train)"
      ],
      "execution_count": null,
      "outputs": []
    },
    {
      "cell_type": "code",
      "metadata": {
        "colab": {
          "base_uri": "https://localhost:8080/",
          "height": 417
        },
        "id": "Yr6J2D6p1ttZ",
        "outputId": "b2f63f28-c80a-4f58-bea8-8aba849d9636"
      },
      "source": [
        "model = LogisticRegression()\n",
        "model.fit(X_t_ros_train, y_t_ros_train)\n",
        "y_t_ros_pred = model.predict(X_t_val)\n",
        "\n",
        "evaluate_model(y_t_val.astype('int'), y_t_ros_pred.astype('int'))"
      ],
      "execution_count": null,
      "outputs": [
        {
          "output_type": "stream",
          "text": [
            "[[4448 1136]\n",
            " [ 426 1316]]\n",
            "Precision: 0.5367047308319739\n",
            "Recall: 0.7554535017221584\n",
            "F1: 0.6275631855030996\n",
            "Accuracy:  0.7867867867867868\n",
            "Mean abs error:  0.2132132132132132\n"
          ],
          "name": "stdout"
        },
        {
          "output_type": "display_data",
          "data": {
            "image/png": "[encoded data removed]",
            "text/plain": [
              "<Figure size 432x288 with 1 Axes>"
            ]
          },
          "metadata": {
            "tags": [],
            "needs_background": "light"
          }
        }
      ]
    },
    {
      "cell_type": "code",
      "metadata": {
        "colab": {
          "base_uri": "https://localhost:8080/",
          "height": 417
        },
        "id": "dJglG7-s1llh",
        "outputId": "dc917ff3-ab11-4417-aa28-cf6314c15174"
      },
      "source": [
        "model = CatBoostClassifier(logging_level='Silent')\n",
        "model.fit(X_t_ros_train, y_t_ros_train)\n",
        "y_t_ros_pred = model.predict(X_t_val)\n",
        "\n",
        "evaluate_model(y_t_val.astype('int'), y_t_ros_pred.astype('int'))"
      ],
      "execution_count": null,
      "outputs": [
        {
          "output_type": "stream",
          "text": [
            "[[4680  904]\n",
            " [ 404 1338]]\n",
            "Precision: 0.5967885816235504\n",
            "Recall: 0.7680826636050516\n",
            "F1: 0.6716867469879517\n",
            "Accuracy:  0.8214578214578214\n",
            "Mean abs error:  0.17854217854217855\n"
          ],
          "name": "stdout"
        },
        {
          "output_type": "display_data",
          "data": {
            "image/png": "[encoded data removed]",
            "text/plain": [
              "<Figure size 432x288 with 1 Axes>"
            ]
          },
          "metadata": {
            "tags": [],
            "needs_background": "light"
          }
        }
      ]
    },
    {
      "cell_type": "markdown",
      "metadata": {
        "id": "79bCkIP33Q7p"
      },
      "source": [
        "As expected transformation (here cube root) doesn't make much difference. In a few iterations, I also created a couple new features by multiplying other features. No impact on the outcome."
      ]
    },
    {
      "cell_type": "code",
      "metadata": {
        "id": "y4wi9oFZIuH9"
      },
      "source": [
        "X_t = X.copy() # t for transformed\n",
        "X_t['y'] = y\n",
        "\n",
        "X_t = X_t[X_t['cg'] < X_t['cg'].quantile(.95)]\n",
        "X_t = X_t[X_t['cl']< X_t['cl'].quantile(.97)]\n",
        "\n"
      ],
      "execution_count": null,
      "outputs": []
    },
    {
      "cell_type": "code",
      "metadata": {
        "colab": {
          "base_uri": "https://localhost:8080/"
        },
        "id": "AcmvQgI8_eUr",
        "outputId": "0a7e7555-3950-4285-d9a4-8b07631398d5"
      },
      "source": [
        "log_cg = np.log(X_t['cg']-min(X_t['cg'])+1)\n",
        "std_log_cg = (log_cg - np.mean(log_cg)) / np.std(log_cg)\n",
        "print('std_log skew cg:', skew(log_cg))\n",
        "print('Sinh skew cg', skew(np.sinh(X_t['cg'])))\n",
        "cube_cg = np.cbrt(X_t['cg'])\n",
        "print('cube skew:', skew(cube_cg))\n",
        "\n",
        "log_cl = np.log(X_t['cl']-min(X_t['cl'])+1)\n",
        "std_log_cl = (log_cl - np.mean(log_cl)) / np.std(log_cl)\n",
        "print('std_log skew cl:', skew(log_cl))\n",
        "cube_cl = np.cbrt(X_t['cl'])\n",
        "print('cube skew cl:', skew(cube_cl))"
      ],
      "execution_count": null,
      "outputs": [
        {
          "output_type": "stream",
          "text": [
            "std_log skew cg: 5.546617889023087\n",
            "Sinh skew cg 7.306094245968596\n",
            "cube skew: 5.247990084085938\n",
            "std_log skew cl: 7.428289829440748\n",
            "cube skew cl: 7.023741179538631\n"
          ],
          "name": "stdout"
        }
      ]
    },
    {
      "cell_type": "markdown",
      "metadata": {
        "id": "WWGj4Tp3ZM78"
      },
      "source": [
        "The results indicate the approach is not effective."
      ]
    },
    {
      "cell_type": "markdown",
      "metadata": {
        "id": "S5wEGkR5gUmF"
      },
      "source": [
        "#### Binary classification using keras\n"
      ]
    },
    {
      "cell_type": "markdown",
      "metadata": {
        "id": "fNawtJ9e31Oy"
      },
      "source": [
        "This is just the frist try to use keras for this problem.\n"
      ]
    },
    {
      "cell_type": "code",
      "metadata": {
        "colab": {
          "base_uri": "https://localhost:8080/"
        },
        "id": "5BKSbOJBnw5k",
        "outputId": "5178c8f7-dd00-4fa0-c058-cd3e7f3cbb0c"
      },
      "source": [
        "import tensorflow as tf\n",
        "from tensorflow import keras\n",
        "from tensorflow.keras import Sequential\n",
        "from tensorflow.keras import layers\n",
        "\n",
        "\n",
        "# input shape\n",
        "input_shape = (X_ros_train.shape[1],)\n",
        "print(f'Feature shape: {input_shape}')\n",
        "\n",
        "# Create the model\n",
        "model = Sequential()\n",
        "model.add(layers.Dense(50, input_shape=input_shape, activation='relu'))\n",
        "model.add(layers.Dense(50, activation='sigmoid'))\n",
        "model.add(layers.Dense(1))\n",
        "model.summary()\n",
        "\n",
        "\n",
        "\n",
        "from keras import backend as K\n",
        "\n",
        "def recall_m(y_true, y_pred):\n",
        "    true_positives = K.sum(K.round(K.clip(y_true * y_pred, 0, 1)))\n",
        "    possible_positives = K.sum(K.round(K.clip(y_true, 0, 1)))\n",
        "    recall = true_positives / (possible_positives + K.epsilon())\n",
        "    return recall\n",
        "\n",
        "def precision_m(y_true, y_pred):\n",
        "    true_positives = K.sum(K.round(K.clip(y_true * y_pred, 0, 1)))\n",
        "    predicted_positives = K.sum(K.round(K.clip(y_pred, 0, 1)))\n",
        "    precision = true_positives / (predicted_positives + K.epsilon())\n",
        "    return precision\n",
        "\n",
        "def f1_m(y_true, y_pred):\n",
        "    precision = precision_m(y_true, y_pred)\n",
        "    recall = recall_m(y_true, y_pred)\n",
        "    return 2*((precision*recall)/(precision+recall+K.epsilon()))\n",
        "\n",
        "\n",
        "# Configure the model and start training\n",
        "model.compile(loss='binary_crossentropy', optimizer='adam', metrics=['acc',f1_m,precision_m, recall_m])\n",
        "\n",
        "history = model.fit(X_ros_train, y_ros_train, validation_split=0.25, epochs=10, verbose=0)\n",
        "\n",
        "# evaluate the model\n",
        "loss, accuracy, f1_score, precision, recall = model.evaluate(X_val, y_val, verbose=0)\n",
        "\n",
        "print('Precision:', precision)\n",
        "print('Recall:', recall)\n",
        "print('f1', f1_score)\n",
        "print('Accuracy', accuracy)"
      ],
      "execution_count": null,
      "outputs": [
        {
          "output_type": "stream",
          "text": [
            "Feature shape: (88,)\n",
            "Model: \"sequential_14\"\n",
            "_________________________________________________________________\n",
            "Layer (type)                 Output Shape              Param #   \n",
            "=================================================================\n",
            "dense_51 (Dense)             (None, 50)                4450      \n",
            "_________________________________________________________________\n",
            "dense_52 (Dense)             (None, 50)                2550      \n",
            "_________________________________________________________________\n",
            "dense_53 (Dense)             (None, 1)                 51        \n",
            "=================================================================\n",
            "Total params: 7,051\n",
            "Trainable params: 7,051\n",
            "Non-trainable params: 0\n",
            "_________________________________________________________________\n",
            "Precision: 0.6132016777992249\n",
            "Recall: 0.6429523229598999\n",
            "f1 0.6106857657432556\n",
            "Accuracy 0.8136836886405945\n"
          ],
          "name": "stdout"
        }
      ]
    }
  ]
}